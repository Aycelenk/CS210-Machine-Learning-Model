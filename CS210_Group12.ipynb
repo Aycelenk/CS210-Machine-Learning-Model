{
  "nbformat": 4,
  "nbformat_minor": 0,
  "metadata": {
    "colab": {
      "provenance": []
    },
    "kernelspec": {
      "name": "python3",
      "display_name": "Python 3"
    },
    "language_info": {
      "name": "python"
    }
  },
  "cells": [
    {
      "cell_type": "markdown",
      "source": [
        "# IMDB DATASET\n",
        "\n",
        "**PREDICTING THE RATINGS**\n",
        "\n",
        "---\n",
        "OUR AIM IS TO PREDICT THE RATINGS OF MOVIES DEPENDING ON THE DATA GIVEN TO US.\n",
        "\n",
        "We begin by choosing our dataset, IMDB Movies because we find the topic interesting and predicting the rating is a crucial step for the movie industry. Dataset accessed is maintained of 993 observations of movies from different genres, different timelines. We use 12 variables which are the information given about the movies in the columns of the dataset. We aim to predict the ratings, which determine the enlargement of the audience of the said movies, by attending variables to given information such as runtime, Metascores, votes. In case we predict correctly we print “Correct Rating!”\n",
        "The IMDB contains information of how the movies were liked by the audience, by providing ratings. Audience can vote from 1 to 10 depending on their interest in the movie. IMDB uses these numbers to calculate the movie’s rating. \n",
        "The Metascore is a weighted average of these calculations made by a sample size containing the famously known critics. In this sample group, the voting numbers are between 0-100. A runtime variable indicates the length of the movie in minutes. The votes indicate the number of votes cast by the audience. This benefits the film or vice versa. These variables are the most critical ones in our prediction. Before moving further, we process the data in great detail to reach our final information to be used. In order to reach a clear, net outcome we analyze the data to spot empty information. Therefore, we do data cleaning, resulting in some rows being deleted and some empty spaces being filled with calculated means. \n",
        "\n",
        "\n",
        "Data accessed from https://drive.google.com/file/d/1-1aZGfAlXgtn0gLfGpZdqXGGkfB_UbkG/view\n",
        "\n",
        "\n",
        "\n",
        "---\n",
        "\n",
        "Group Members:\n",
        "\n",
        "* Ayçelen Kaptan\n",
        "*  İrem Nur Kaya\n",
        "*  Ceren Şahin\n",
        "*   Duygu Bayoğlu\n",
        "*   Serra Akar\n",
        "*   Zeynep Merve Yaman \n",
        "\n",
        "---\n",
        "\n",
        "> OUR PROCESS IS GIVEN BELOW RESPECTIVELY:\n",
        "\n",
        "*   DATA CLEANING\n",
        "\n",
        "*   EXPLORATORY DATA ANALYSIS\n",
        "\n",
        "*   DATA VISUALIZATION\n",
        "*   HYPOTHESIS TESTING\n",
        "\n",
        "\n",
        "*   MACHINE LEARNING\n",
        "\n",
        "\n",
        "*  RESULTS \n",
        "\n",
        "\n",
        "\n",
        "\n",
        "\n",
        "\n",
        "\n",
        "\n",
        "\n"
      ],
      "metadata": {
        "id": "2GNjdwhX_mFH"
      }
    },
    {
      "cell_type": "markdown",
      "source": [
        "# *CLEANING THE DATA*\n",
        "\n",
        "\n",
        "> STEPS:\n",
        "\n",
        "*   DETECTING MISSING VALUES\n",
        "*   IF THE MISSING VALUES ARE LESS THAN AN ACCEPTABLE PERCENTAGE THEN WE CAN REMOVE THEM. BUT IF THEY ARE GOING TO POSE A THREAT TO US WE SHOULD REPLACE THEM WITH THE MEAN.\n",
        "\n",
        "\n",
        "\n"
      ],
      "metadata": {
        "id": "jd1E1Oyc_pa7"
      }
    },
    {
      "cell_type": "code",
      "source": [
        "from google.colab import drive\n",
        "drive.mount(\"./drive\")"
      ],
      "metadata": {
        "colab": {
          "base_uri": "https://localhost:8080/"
        },
        "id": "nov9lyZs_s2o",
        "outputId": "ca93e84c-bea3-4a0c-d458-771dd23d62b6"
      },
      "execution_count": null,
      "outputs": [
        {
          "output_type": "stream",
          "name": "stdout",
          "text": [
            "Mounted at ./drive\n"
          ]
        }
      ]
    },
    {
      "cell_type": "markdown",
      "source": [
        "Then we added necessary libraries to facilitate visualization and manipulation of the dataset."
      ],
      "metadata": {
        "id": "0T-QAomQ4Da3"
      }
    },
    {
      "cell_type": "code",
      "source": [
        "import pandas as pd\n",
        "import numpy as np\n",
        "import matplotlib.pyplot as plt\n",
        "import seaborn as sns\n",
        "from os.path import join\n",
        "\n",
        "%matplotlib inline"
      ],
      "metadata": {
        "id": "7CHSKqV3_2i7"
      },
      "execution_count": null,
      "outputs": []
    },
    {
      "cell_type": "code",
      "source": [
        "fname = \"IMDB-Movie-Data-withID.csv\"\n",
        "path_prefix = './drive/My Drive' \n",
        "df = pd.read_csv(join(path_prefix, fname))\n",
        "df.head(2)"
      ],
      "metadata": {
        "colab": {
          "base_uri": "https://localhost:8080/",
          "height": 243
        },
        "id": "NiT1YVhV_31s",
        "outputId": "4d4e9d86-11de-480f-b0c4-9d331c34d08e"
      },
      "execution_count": null,
      "outputs": [
        {
          "output_type": "execute_result",
          "data": {
            "text/plain": [
              "   Unnamed: 0  Rank                    Title                     Genre  \\\n",
              "0           0     1  Guardians of the Galaxy   Action,Adventure,Sci-Fi   \n",
              "1           1     2               Prometheus  Adventure,Mystery,Sci-Fi   \n",
              "\n",
              "                                         Description      Director  \\\n",
              "0  A group of intergalactic criminals are forced ...    James Gunn   \n",
              "1  Following clues to the origin of mankind, a te...  Ridley Scott   \n",
              "\n",
              "                                              Actors  Year  Runtime (Minutes)  \\\n",
              "0  Chris Pratt, Vin Diesel, Bradley Cooper, Zoe S...  2014                121   \n",
              "1  Noomi Rapace, Logan Marshall-Green, Michael Fa...  2012                124   \n",
              "\n",
              "   Rating   Votes  Revenue (Millions)  Metascore   imdbID  movieLensID  \n",
              "0     8.1  757074              333.13       76.0  2015381     112852.0  \n",
              "1     7.0  485820              126.46       65.0  1446714      94864.0  "
            ],
            "text/html": [
              "\n",
              "  <div id=\"df-7b1898e4-ca84-4949-9be8-68c0e3b86b4b\">\n",
              "    <div class=\"colab-df-container\">\n",
              "      <div>\n",
              "<style scoped>\n",
              "    .dataframe tbody tr th:only-of-type {\n",
              "        vertical-align: middle;\n",
              "    }\n",
              "\n",
              "    .dataframe tbody tr th {\n",
              "        vertical-align: top;\n",
              "    }\n",
              "\n",
              "    .dataframe thead th {\n",
              "        text-align: right;\n",
              "    }\n",
              "</style>\n",
              "<table border=\"1\" class=\"dataframe\">\n",
              "  <thead>\n",
              "    <tr style=\"text-align: right;\">\n",
              "      <th></th>\n",
              "      <th>Unnamed: 0</th>\n",
              "      <th>Rank</th>\n",
              "      <th>Title</th>\n",
              "      <th>Genre</th>\n",
              "      <th>Description</th>\n",
              "      <th>Director</th>\n",
              "      <th>Actors</th>\n",
              "      <th>Year</th>\n",
              "      <th>Runtime (Minutes)</th>\n",
              "      <th>Rating</th>\n",
              "      <th>Votes</th>\n",
              "      <th>Revenue (Millions)</th>\n",
              "      <th>Metascore</th>\n",
              "      <th>imdbID</th>\n",
              "      <th>movieLensID</th>\n",
              "    </tr>\n",
              "  </thead>\n",
              "  <tbody>\n",
              "    <tr>\n",
              "      <th>0</th>\n",
              "      <td>0</td>\n",
              "      <td>1</td>\n",
              "      <td>Guardians of the Galaxy</td>\n",
              "      <td>Action,Adventure,Sci-Fi</td>\n",
              "      <td>A group of intergalactic criminals are forced ...</td>\n",
              "      <td>James Gunn</td>\n",
              "      <td>Chris Pratt, Vin Diesel, Bradley Cooper, Zoe S...</td>\n",
              "      <td>2014</td>\n",
              "      <td>121</td>\n",
              "      <td>8.1</td>\n",
              "      <td>757074</td>\n",
              "      <td>333.13</td>\n",
              "      <td>76.0</td>\n",
              "      <td>2015381</td>\n",
              "      <td>112852.0</td>\n",
              "    </tr>\n",
              "    <tr>\n",
              "      <th>1</th>\n",
              "      <td>1</td>\n",
              "      <td>2</td>\n",
              "      <td>Prometheus</td>\n",
              "      <td>Adventure,Mystery,Sci-Fi</td>\n",
              "      <td>Following clues to the origin of mankind, a te...</td>\n",
              "      <td>Ridley Scott</td>\n",
              "      <td>Noomi Rapace, Logan Marshall-Green, Michael Fa...</td>\n",
              "      <td>2012</td>\n",
              "      <td>124</td>\n",
              "      <td>7.0</td>\n",
              "      <td>485820</td>\n",
              "      <td>126.46</td>\n",
              "      <td>65.0</td>\n",
              "      <td>1446714</td>\n",
              "      <td>94864.0</td>\n",
              "    </tr>\n",
              "  </tbody>\n",
              "</table>\n",
              "</div>\n",
              "      <button class=\"colab-df-convert\" onclick=\"convertToInteractive('df-7b1898e4-ca84-4949-9be8-68c0e3b86b4b')\"\n",
              "              title=\"Convert this dataframe to an interactive table.\"\n",
              "              style=\"display:none;\">\n",
              "        \n",
              "  <svg xmlns=\"http://www.w3.org/2000/svg\" height=\"24px\"viewBox=\"0 0 24 24\"\n",
              "       width=\"24px\">\n",
              "    <path d=\"M0 0h24v24H0V0z\" fill=\"none\"/>\n",
              "    <path d=\"M18.56 5.44l.94 2.06.94-2.06 2.06-.94-2.06-.94-.94-2.06-.94 2.06-2.06.94zm-11 1L8.5 8.5l.94-2.06 2.06-.94-2.06-.94L8.5 2.5l-.94 2.06-2.06.94zm10 10l.94 2.06.94-2.06 2.06-.94-2.06-.94-.94-2.06-.94 2.06-2.06.94z\"/><path d=\"M17.41 7.96l-1.37-1.37c-.4-.4-.92-.59-1.43-.59-.52 0-1.04.2-1.43.59L10.3 9.45l-7.72 7.72c-.78.78-.78 2.05 0 2.83L4 21.41c.39.39.9.59 1.41.59.51 0 1.02-.2 1.41-.59l7.78-7.78 2.81-2.81c.8-.78.8-2.07 0-2.86zM5.41 20L4 18.59l7.72-7.72 1.47 1.35L5.41 20z\"/>\n",
              "  </svg>\n",
              "      </button>\n",
              "      \n",
              "  <style>\n",
              "    .colab-df-container {\n",
              "      display:flex;\n",
              "      flex-wrap:wrap;\n",
              "      gap: 12px;\n",
              "    }\n",
              "\n",
              "    .colab-df-convert {\n",
              "      background-color: #E8F0FE;\n",
              "      border: none;\n",
              "      border-radius: 50%;\n",
              "      cursor: pointer;\n",
              "      display: none;\n",
              "      fill: #1967D2;\n",
              "      height: 32px;\n",
              "      padding: 0 0 0 0;\n",
              "      width: 32px;\n",
              "    }\n",
              "\n",
              "    .colab-df-convert:hover {\n",
              "      background-color: #E2EBFA;\n",
              "      box-shadow: 0px 1px 2px rgba(60, 64, 67, 0.3), 0px 1px 3px 1px rgba(60, 64, 67, 0.15);\n",
              "      fill: #174EA6;\n",
              "    }\n",
              "\n",
              "    [theme=dark] .colab-df-convert {\n",
              "      background-color: #3B4455;\n",
              "      fill: #D2E3FC;\n",
              "    }\n",
              "\n",
              "    [theme=dark] .colab-df-convert:hover {\n",
              "      background-color: #434B5C;\n",
              "      box-shadow: 0px 1px 3px 1px rgba(0, 0, 0, 0.15);\n",
              "      filter: drop-shadow(0px 1px 2px rgba(0, 0, 0, 0.3));\n",
              "      fill: #FFFFFF;\n",
              "    }\n",
              "  </style>\n",
              "\n",
              "      <script>\n",
              "        const buttonEl =\n",
              "          document.querySelector('#df-7b1898e4-ca84-4949-9be8-68c0e3b86b4b button.colab-df-convert');\n",
              "        buttonEl.style.display =\n",
              "          google.colab.kernel.accessAllowed ? 'block' : 'none';\n",
              "\n",
              "        async function convertToInteractive(key) {\n",
              "          const element = document.querySelector('#df-7b1898e4-ca84-4949-9be8-68c0e3b86b4b');\n",
              "          const dataTable =\n",
              "            await google.colab.kernel.invokeFunction('convertToInteractive',\n",
              "                                                     [key], {});\n",
              "          if (!dataTable) return;\n",
              "\n",
              "          const docLinkHtml = 'Like what you see? Visit the ' +\n",
              "            '<a target=\"_blank\" href=https://colab.research.google.com/notebooks/data_table.ipynb>data table notebook</a>'\n",
              "            + ' to learn more about interactive tables.';\n",
              "          element.innerHTML = '';\n",
              "          dataTable['output_type'] = 'display_data';\n",
              "          await google.colab.output.renderOutput(dataTable, element);\n",
              "          const docLink = document.createElement('div');\n",
              "          docLink.innerHTML = docLinkHtml;\n",
              "          element.appendChild(docLink);\n",
              "        }\n",
              "      </script>\n",
              "    </div>\n",
              "  </div>\n",
              "  "
            ]
          },
          "metadata": {},
          "execution_count": 4
        }
      ]
    },
    {
      "cell_type": "code",
      "source": [
        "print(\"There are\", len(df),  \"lines of data in the \\\"IMDB-Movie-Data-withID.csv\\\" dataset with\", len(df.columns), \"features\")\n",
        "print(\"Data types in the \\\"IMDB-Movie-Data-withID.csv\\\" dataset:\")\n",
        "print(df.dtypes)\n",
        "print()"
      ],
      "metadata": {
        "colab": {
          "base_uri": "https://localhost:8080/"
        },
        "id": "EapVE_YtxjSd",
        "outputId": "cb29a7b1-a476-44de-8825-09cceffe2d41"
      },
      "execution_count": null,
      "outputs": [
        {
          "output_type": "stream",
          "name": "stdout",
          "text": [
            "There are 993 lines of data in the \"IMDB-Movie-Data-withID.csv\" dataset with 15 features\n",
            "Data types in the \"IMDB-Movie-Data-withID.csv\" dataset:\n",
            "Unnamed: 0              int64\n",
            "Rank                    int64\n",
            "Title                  object\n",
            "Genre                  object\n",
            "Description            object\n",
            "Director               object\n",
            "Actors                 object\n",
            "Year                    int64\n",
            "Runtime (Minutes)       int64\n",
            "Rating                float64\n",
            "Votes                   int64\n",
            "Revenue (Millions)    float64\n",
            "Metascore             float64\n",
            "imdbID                  int64\n",
            "movieLensID           float64\n",
            "dtype: object\n",
            "\n"
          ]
        }
      ]
    },
    {
      "cell_type": "code",
      "source": [
        "df.isna().sum() #The number of missing data in each column "
      ],
      "metadata": {
        "colab": {
          "base_uri": "https://localhost:8080/"
        },
        "id": "sM-0dBPmKI_9",
        "outputId": "e034eff6-c4f7-46ea-f043-2985c6f52953"
      },
      "execution_count": null,
      "outputs": [
        {
          "output_type": "execute_result",
          "data": {
            "text/plain": [
              "Unnamed: 0              0\n",
              "Rank                    0\n",
              "Title                   0\n",
              "Genre                   0\n",
              "Description             0\n",
              "Director                0\n",
              "Actors                  0\n",
              "Year                    0\n",
              "Runtime (Minutes)       0\n",
              "Rating                  0\n",
              "Votes                   0\n",
              "Revenue (Millions)    127\n",
              "Metascore              63\n",
              "imdbID                  0\n",
              "movieLensID             0\n",
              "dtype: int64"
            ]
          },
          "metadata": {},
          "execution_count": 5
        }
      ]
    },
    {
      "cell_type": "markdown",
      "source": [
        "## **Data Exploration**\n",
        "\n"
      ],
      "metadata": {
        "id": "qHGcJl184eAJ"
      }
    },
    {
      "cell_type": "markdown",
      "source": [
        "We analyzed the data by plotting each variables' own histogram. In order to understand the correlation between the features, we plotted the matrixes and the graphs of correlation. Our final step was to study how a movies' rating is affected by another variable."
      ],
      "metadata": {
        "id": "PWDKN85o5EPy"
      }
    },
    {
      "cell_type": "code",
      "source": [
        "#Heatmap of the missing values\n",
        "sns.heatmap(df.isnull(), cbar=False)\n",
        "plt.show()"
      ],
      "metadata": {
        "id": "av3rarGBNZzH",
        "colab": {
          "base_uri": "https://localhost:8080/",
          "height": 352
        },
        "outputId": "cb78fa11-73f4-4297-d5f7-99d43c00cb25"
      },
      "execution_count": null,
      "outputs": [
        {
          "output_type": "display_data",
          "data": {
            "text/plain": [
              "<Figure size 432x288 with 1 Axes>"
            ],
            "image/png": "[encoded data removed]"
          },
          "metadata": {
            "needs_background": "light"
          }
        }
      ]
    },
    {
      "cell_type": "code",
      "source": [
        "per1 = df['Revenue (Millions)'].isna().sum()/df['Revenue (Millions)'].sum()*100 #Percentage of missing values in Revenue\n",
        "per2 = df['Metascore'].isna().sum()/df['Metascore'].sum()*100 #Percentage of missing values in Metascore\n",
        "\n",
        "print(\"The percentage of missing values in Revenue (Millions):\",per1)\n",
        "print(\"The percentage of missing values in Metascore:\",per2)"
      ],
      "metadata": {
        "colab": {
          "base_uri": "https://localhost:8080/"
        },
        "id": "bMhDkwtoLFKZ",
        "outputId": "bef6cfcd-3a78-4f6c-82d4-f80f57bcf17c"
      },
      "execution_count": null,
      "outputs": [
        {
          "output_type": "stream",
          "name": "stdout",
          "text": [
            "The percentage of missing values in Revenue (Millions): 0.17580991266123464\n",
            "The percentage of missing values in Metascore: 0.1148838396732193\n"
          ]
        }
      ]
    },
    {
      "cell_type": "code",
      "source": [
        "#Replacing the missing values with the mean of the column\n",
        "df['Revenue (Millions)'].dtype\n",
        "df['Revenue (Millions)'].fillna(df['Revenue (Millions)'].astype(float).mean(), inplace = True)\n",
        "df.isna().sum()\n",
        "df['Revenue (Millions)'].mean()"
      ],
      "metadata": {
        "id": "hT7c8Co6NfIK",
        "colab": {
          "base_uri": "https://localhost:8080/"
        },
        "outputId": "658e192d-ba57-4be0-9c6d-c8a8a758822c"
      },
      "execution_count": null,
      "outputs": [
        {
          "output_type": "execute_result",
          "data": {
            "text/plain": [
              "83.4146766743649"
            ]
          },
          "metadata": {},
          "execution_count": 5
        }
      ]
    },
    {
      "cell_type": "code",
      "source": [
        "#Replacing the missing values with the mean of the column\n",
        "df['Metascore'].dtype\n",
        "df['Metascore'].fillna(df['Metascore'].astype(float).mean(), inplace = True)\n",
        "df.isna().sum()\n",
        "df['Metascore'].mean()"
      ],
      "metadata": {
        "colab": {
          "base_uri": "https://localhost:8080/"
        },
        "id": "-K23v9dTWNY9",
        "outputId": "3d098751-372a-47ba-9127-77e32fa15396"
      },
      "execution_count": null,
      "outputs": [
        {
          "output_type": "execute_result",
          "data": {
            "text/plain": [
              "58.965591397849465"
            ]
          },
          "metadata": {},
          "execution_count": 6
        }
      ]
    },
    {
      "cell_type": "code",
      "source": [
        "df['Revenue (Millions)'].isna().sum()# We check here if the replacing method was successfull!"
      ],
      "metadata": {
        "colab": {
          "base_uri": "https://localhost:8080/"
        },
        "id": "xt7qUlctWRw8",
        "outputId": "696a0e1e-fe85-4ca0-9083-63bd6faa5b72"
      },
      "execution_count": null,
      "outputs": [
        {
          "output_type": "execute_result",
          "data": {
            "text/plain": [
              "0"
            ]
          },
          "metadata": {},
          "execution_count": 10
        }
      ]
    },
    {
      "cell_type": "code",
      "source": [
        "df['Revenue (Millions)'].isna().sum()# We check here if the replacing method was successfull!"
      ],
      "metadata": {
        "colab": {
          "base_uri": "https://localhost:8080/"
        },
        "id": "QkwhtHVeWVvL",
        "outputId": "8f87375b-7377-45a7-b186-7ac43ea6bb1d"
      },
      "execution_count": null,
      "outputs": [
        {
          "output_type": "execute_result",
          "data": {
            "text/plain": [
              "0"
            ]
          },
          "metadata": {},
          "execution_count": 11
        }
      ]
    },
    {
      "cell_type": "code",
      "source": [
        "sns.heatmap(df.isnull(), cbar=False) #Heatmap of missing values gone!\n",
        "plt.show()"
      ],
      "metadata": {
        "colab": {
          "base_uri": "https://localhost:8080/",
          "height": 352
        },
        "id": "RQSUIVmVWWsF",
        "outputId": "e9153a2e-89bc-400c-8113-86634c30f369"
      },
      "execution_count": null,
      "outputs": [
        {
          "output_type": "display_data",
          "data": {
            "text/plain": [
              "<Figure size 432x288 with 1 Axes>"
            ],
            "image/png": "[encoded data removed]"
          },
          "metadata": {
            "needs_background": "light"
          }
        }
      ]
    },
    {
      "cell_type": "code",
      "source": [
        "plt.figure(figsize=(5,6))\n",
        "sns.boxplot = df.boxplot(column=['Revenue (Millions)'])\n",
        "plt.title(\"Boxplot of Revenue (Millions)\")"
      ],
      "metadata": {
        "id": "0ZXQvYduDEIL",
        "colab": {
          "base_uri": "https://localhost:8080/",
          "height": 407
        },
        "outputId": "7d355c29-6588-4268-a702-faa3d9f7d63f"
      },
      "execution_count": null,
      "outputs": [
        {
          "output_type": "execute_result",
          "data": {
            "text/plain": [
              "Text(0.5, 1.0, 'Boxplot of Revenue (Millions)')"
            ]
          },
          "metadata": {},
          "execution_count": 13
        },
        {
          "output_type": "display_data",
          "data": {
            "text/plain": [
              "<Figure size 360x432 with 1 Axes>"
            ],
            "image/png": "[encoded data removed]"
          },
          "metadata": {
            "needs_background": "light"
          }
        }
      ]
    },
    {
      "cell_type": "code",
      "source": [
        "rating = df[\"Rating\"]\n",
        "\n",
        "plt.figure(figsize=(8,6))\n",
        "plt.hist(rating, bins='auto')\n",
        "plt.xlabel(\"Ratings\")\n",
        "plt.ylabel(\"Frequencies\")\n",
        "plt.title(\"Rating distribution in IMDB Dataset\")\n",
        "plt.show()"
      ],
      "metadata": {
        "colab": {
          "base_uri": "https://localhost:8080/",
          "height": 404
        },
        "id": "S0SaLzGS_dSn",
        "outputId": "cbcb6cf4-b114-429b-a4f7-16aa1a06a222"
      },
      "execution_count": null,
      "outputs": [
        {
          "output_type": "display_data",
          "data": {
            "text/plain": [
              "<Figure size 576x432 with 1 Axes>"
            ],
            "image/png": "[encoded data removed]"
          },
          "metadata": {
            "needs_background": "light"
          }
        }
      ]
    },
    {
      "cell_type": "markdown",
      "source": [
        "Now we start plotting the graphs"
      ],
      "metadata": {
        "id": "ICi-i9HA5g_r"
      }
    },
    {
      "cell_type": "code",
      "source": [
        "\n",
        "plt.scatter(df[\"Rating\"], df[\"Metascore\"])\n",
        "plt.title(\"Rating - Metascore\")\n",
        "plt.xlabel(\"Rating\")\n",
        "plt.ylabel(\"Metascroe\")\n",
        "\n",
        "plt.show()"
      ],
      "metadata": {
        "id": "wrOH4k9eXEGL",
        "colab": {
          "base_uri": "https://localhost:8080/",
          "height": 295
        },
        "outputId": "7b2c1ae8-bbf1-4a8c-cacf-e083a2421fee"
      },
      "execution_count": null,
      "outputs": [
        {
          "output_type": "display_data",
          "data": {
            "text/plain": [
              "<Figure size 432x288 with 1 Axes>"
            ],
            "image/png": "[encoded data removed]"
          },
          "metadata": {
            "needs_background": "light"
          }
        }
      ]
    },
    {
      "cell_type": "markdown",
      "source": [
        "We can see that there is a positive correlation between the rating and the metascore because they both increase at the same time."
      ],
      "metadata": {
        "id": "KsUiYm8D5mZ2"
      }
    },
    {
      "cell_type": "code",
      "source": [
        "\n",
        "plt.scatter(df[\"Runtime (Minutes)\"], df[\"Rating\"])\n",
        "plt.title(\"Runtime (Minutes) - Rating\")\n",
        "plt.xlabel(\"Runtime (Minutes)\")\n",
        "plt.ylabel(\"Rating\")\n",
        "\n",
        "plt.show()"
      ],
      "metadata": {
        "colab": {
          "base_uri": "https://localhost:8080/",
          "height": 295
        },
        "id": "0TiC-dYiupNM",
        "outputId": "b1ffffe5-2688-4906-99a5-b02cff460c8c"
      },
      "execution_count": null,
      "outputs": [
        {
          "output_type": "display_data",
          "data": {
            "text/plain": [
              "<Figure size 432x288 with 1 Axes>"
            ],
            "image/png": "[encoded data removed]"
          },
          "metadata": {}
        }
      ]
    },
    {
      "cell_type": "markdown",
      "source": [
        "There is no correlation."
      ],
      "metadata": {
        "id": "1WlLAUS_5-ul"
      }
    },
    {
      "cell_type": "code",
      "source": [
        "\n",
        "plt.scatter(df[\"Revenue (Millions)\"], df[\"Rating\"])\n",
        "plt.title(\"Revenue (Millions) - Rating\")\n",
        "plt.xlabel(\"Revenue (Millions)\")\n",
        "plt.ylabel(\"Rating\")\n",
        "\n",
        "plt.show()"
      ],
      "metadata": {
        "colab": {
          "base_uri": "https://localhost:8080/",
          "height": 295
        },
        "id": "pNO8Pdyo1GZ5",
        "outputId": "5799d105-5e8b-4152-8097-2fe1d19435de"
      },
      "execution_count": null,
      "outputs": [
        {
          "output_type": "display_data",
          "data": {
            "text/plain": [
              "<Figure size 432x288 with 1 Axes>"
            ],
            "image/png": "[encoded data removed]"
          },
          "metadata": {}
        }
      ]
    },
    {
      "cell_type": "markdown",
      "source": [
        "*There* is a positive correlation."
      ],
      "metadata": {
        "id": "1QB4eclw53v3"
      }
    },
    {
      "cell_type": "code",
      "source": [
        "plt.scatter(df[\"Rating\"], df[\"Votes\"])\n",
        "plt.title(\"Votes - Rating\")\n",
        "plt.ylabel(\"Votes\")\n",
        "plt.xlabel(\"Rating\")\n",
        "\n",
        "plt.show()"
      ],
      "metadata": {
        "colab": {
          "base_uri": "https://localhost:8080/",
          "height": 295
        },
        "id": "HixPpCPM3htt",
        "outputId": "55d1f075-73c3-41ff-ceb0-ba78bde64c39"
      },
      "execution_count": null,
      "outputs": [
        {
          "output_type": "display_data",
          "data": {
            "text/plain": [
              "<Figure size 432x288 with 1 Axes>"
            ],
            "image/png": "[encoded data removed]"
          },
          "metadata": {}
        }
      ]
    },
    {
      "cell_type": "markdown",
      "source": [
        "*As* we look at this scatter plot there is a positive correlation."
      ],
      "metadata": {
        "id": "DemtjohZ6Fz2"
      }
    },
    {
      "cell_type": "markdown",
      "source": [
        "# Explatory Data Analysis\n",
        "\n",
        "\n",
        "*   Visualizing the data and showing the distributions\n",
        "   \n"
      ],
      "metadata": {
        "id": "161wYLPGCFvj"
      }
    },
    {
      "cell_type": "markdown",
      "source": [
        "\n",
        "Below, we created a heatmap to see the correlations between numerical variables. The positive values at the matrix indicate a positive correlation whereas the negative values indicate a negative correlation. Lastly, if the value is equal to 0, it means that there is no correlation."
      ],
      "metadata": {
        "id": "ELHO588A5Xf0"
      }
    },
    {
      "cell_type": "code",
      "source": [
        "#correlation matrix\n",
        "\n",
        "columns = ['Year', 'Runtime (Minutes)', 'Rating', 'Votes', 'Revenue (Millions)', 'Metascore']\n",
        "\n",
        "# Select only the selected columns from the DataFrame\n",
        "df_selected = df.loc[:, columns]\n",
        "\n",
        "# Calculate the correlation matrix\n",
        "corr = df_selected.corr()\n",
        "\n",
        "# Plot the heatmap\n",
        "ax = sns.heatmap(corr, annot=True, square=True, linewidths=0.5)\n",
        "\n",
        "# Add a title and display the plot\n",
        "ax.set_title(\"Correlation of Features\")\n",
        "ax.figure.set_size_inches(12, 8)\n",
        "plt.show()\n"
      ],
      "metadata": {
        "id": "19q3gwjhCMyA",
        "colab": {
          "base_uri": "https://localhost:8080/",
          "height": 581
        },
        "outputId": "a7a5ea55-b0df-45cb-a11a-0c88bb6cf34d"
      },
      "execution_count": null,
      "outputs": [
        {
          "output_type": "display_data",
          "data": {
            "text/plain": [
              "<Figure size 864x576 with 2 Axes>"
            ],
            "image/png": "[encoded data removed]"
          },
          "metadata": {
            "needs_background": "light"
          }
        }
      ]
    },
    {
      "cell_type": "code",
      "source": [
        "min_vote = min(df[\"Votes\"])\n",
        "max_vote = max(df[\"Votes\"])\n",
        "\n",
        "df[\"norm_votes\"] = df[\"Votes\"].apply(lambda x: (x-min_vote)/(max_vote-min_vote))\n",
        "\n",
        "#lets standardize the price column\n",
        "mean = np.mean(df[\"Votes\"])\n",
        "std = np.std(df[\"Votes\"])\n",
        "\n",
        "df[\"stand_votes\"] = df[\"Votes\"].apply(lambda x: (x-mean)/std)\n",
        "\n",
        "fig, axes = plt.subplots(1,3, figsize=(10,4))\n",
        "\n",
        "sns.distplot(df[\"Votes\"], ax=axes[0])\n",
        "axes[0].set_title(\"Votes\")\n",
        "axes[0].grid()\n",
        "\n",
        "sns.distplot(df[\"norm_votes\"], ax=axes[1])\n",
        "axes[1].set_title(\"normalized votes\")\n",
        "axes[1].grid()\n",
        "\n",
        "sns.distplot(df[\"stand_votes\"], ax=axes[2])\n",
        "axes[2].set_title(\"standardized votes\")\n",
        "axes[2].grid()\n",
        "plt.show()"
      ],
      "metadata": {
        "colab": {
          "base_uri": "https://localhost:8080/",
          "height": 420
        },
        "id": "Yvu4TdIg0yui",
        "outputId": "dc1774a3-7929-49fa-9222-215c2c67e9a1"
      },
      "execution_count": null,
      "outputs": [
        {
          "output_type": "stream",
          "name": "stderr",
          "text": [
            "/usr/local/lib/python3.8/dist-packages/seaborn/distributions.py:2619: FutureWarning: `distplot` is a deprecated function and will be removed in a future version. Please adapt your code to use either `displot` (a figure-level function with similar flexibility) or `histplot` (an axes-level function for histograms).\n",
            "  warnings.warn(msg, FutureWarning)\n",
            "/usr/local/lib/python3.8/dist-packages/seaborn/distributions.py:2619: FutureWarning: `distplot` is a deprecated function and will be removed in a future version. Please adapt your code to use either `displot` (a figure-level function with similar flexibility) or `histplot` (an axes-level function for histograms).\n",
            "  warnings.warn(msg, FutureWarning)\n",
            "/usr/local/lib/python3.8/dist-packages/seaborn/distributions.py:2619: FutureWarning: `distplot` is a deprecated function and will be removed in a future version. Please adapt your code to use either `displot` (a figure-level function with similar flexibility) or `histplot` (an axes-level function for histograms).\n",
            "  warnings.warn(msg, FutureWarning)\n"
          ]
        },
        {
          "output_type": "display_data",
          "data": {
            "text/plain": [
              "<Figure size 720x288 with 3 Axes>"
            ],
            "image/png": "[encoded data removed]"
          },
          "metadata": {
            "needs_background": "light"
          }
        }
      ]
    },
    {
      "cell_type": "markdown",
      "source": [
        "we might see that densities of votes, normalized votes and standized votes."
      ],
      "metadata": {
        "id": "vqJ453xgvtzy"
      }
    },
    {
      "cell_type": "markdown",
      "source": [
        "### Hypothesis Testing"
      ],
      "metadata": {
        "id": "0FoaA0JgtT-Y"
      }
    },
    {
      "cell_type": "markdown",
      "source": [
        "In this part, we tested the difference of the means of different samples which are the metascore values of the movies with a rating greater than 5 and metascore values of the movies with a rating smaller or equal to 5.\n",
        "\n",
        "Null Hypothesis ( H0 ): Means of the two samples which are the metascore values of the movies with a rating greater than 5 and metascore values of the movies with a rating smaller or equal to 5 are equal.\n",
        "\n",
        "Alternative Hypothesis ( HA ): Means of the two samples which are the metascore values of the movies with a rating greater than 5 and metascore values of the movies with a rating smaller or equal to 5 are not equal.\n"
      ],
      "metadata": {
        "id": "535md3zdtlC0"
      }
    },
    {
      "cell_type": "markdown",
      "source": [
        "Now, let's check if there is any significant difference between the means of the movies who have a rating greater than 5 and those who do not. For this exercise, our focus is on metascore values."
      ],
      "metadata": {
        "id": "q_7QVNOTx1F5"
      }
    },
    {
      "cell_type": "code",
      "source": [
        "high_ratings = df[df[\"Rating\"] > 5][\"Metascore\"]\n",
        "low_ratings = df[df[\"Rating\"] <= 5][\"Metascore\"]\n",
        "high_rat = high_ratings.values\n",
        "low_rat = low_ratings.values\n",
        "print(f\"mean rating of high rated movies: {np.mean(high_rat):.2f}\")\n",
        "print(f\"mean rating of low rated movies: {np.mean(low_rat):.2f}\")"
      ],
      "metadata": {
        "colab": {
          "base_uri": "https://localhost:8080/"
        },
        "id": "_fZ5XqNytCGO",
        "outputId": "bcf4d3d5-997d-4ade-a658-18edf89efd32"
      },
      "execution_count": null,
      "outputs": [
        {
          "output_type": "stream",
          "name": "stdout",
          "text": [
            "mean rating of high rated movies: 59.69\n",
            "mean rating of low rated movies: 44.10\n"
          ]
        }
      ]
    },
    {
      "cell_type": "markdown",
      "source": [
        "From the figures below, we can see that the movies who have ratings greater than 5 obtained better metascore results on average compared to the ones who did not."
      ],
      "metadata": {
        "id": "jGRaMOtzzHcO"
      }
    },
    {
      "cell_type": "code",
      "source": [
        "import seaborn as sns\n",
        "\n",
        "ig, ax = plt.subplots(1, 3, figsize=(14,6))  # a figure with 1 row and 3 columns\n",
        "                                              # ax variable stores a list with 3 elements\n",
        "                                              # each element in ax correspons to chart\n",
        "    \n",
        "high_ratings.plot(kind=\"hist\", ax=ax[0], bins=20, label=\"ratings higher than 5\", color=\"r\", density=True)\n",
        "ax[0].set_title(\"ratings higher than 5\")\n",
        "\n",
        "low_ratings.plot(kind=\"hist\", ax=ax[1], bins=20, label=\"ratings smaller or equal to 5\", color=\"m\", density=True)\n",
        "ax[1].set_title(\"ratings smaller or equal to 5\")\n",
        "\n",
        "sns.kdeplot(high_ratings, shade=True, label=\"ratings higher than 5\", ax=ax[2], color=\"r\")\n",
        "sns.kdeplot(low_ratings, shade=True, label=\"ratings smaller or equal to 5\", ax=ax[2], color=\"m\")\n",
        "ax[2].set_title(\"Comparison with KDE\")\n",
        "\n",
        "plt.legend(loc='center left',\n",
        "           bbox_to_anchor=(1, 0.5),\n",
        "           frameon=False)\n",
        "\n",
        "plt.suptitle(\"Metascore Densities\")\n",
        "plt.show()"
      ],
      "metadata": {
        "colab": {
          "base_uri": "https://localhost:8080/",
          "height": 431
        },
        "id": "e-GGXctRzI67",
        "outputId": "53d3f1a7-cc38-4a96-9092-016ceddaea00"
      },
      "execution_count": null,
      "outputs": [
        {
          "output_type": "display_data",
          "data": {
            "text/plain": [
              "<Figure size 1008x432 with 3 Axes>"
            ],
            "image/png": "[encoded data removed]"
          },
          "metadata": {
            "needs_background": "light"
          }
        }
      ]
    },
    {
      "cell_type": "markdown",
      "source": [
        "Now, let's show this difference statistically by applying a significance test. Since we have two different distributions, we used the independence two-sample (unpaired) T-test."
      ],
      "metadata": {
        "id": "nCZokKdQzZys"
      }
    },
    {
      "cell_type": "markdown",
      "source": [
        "The significance level, α , is the probability of rejecting the null hypothesis when it is true. We took our significance values as 0.05 so at the end of our code, we can say that we can predict this printed code by 95% likelihood."
      ],
      "metadata": {
        "id": "Bh4NMo5ZzbHy"
      }
    },
    {
      "cell_type": "code",
      "source": [
        "from scipy import stats\n",
        "import scipy.stats as sp\n",
        "\n",
        "alpha = 0.05\n",
        "degree = len(high_ratings)-1\n",
        "\n",
        "t_stat = stats.t.ppf(1- alpha, degree)\n",
        "#print(t_stat)\n",
        "value = stats.ttest_ind(high_ratings, low_ratings, equal_var=False).statistic\n",
        "#print(value)\n",
        "if t_stat < value:\n",
        "  print(\"Null hypothesis is rejected.\")\n",
        "else:\n",
        "  print(\"We fail to reject null hypothesis. \")"
      ],
      "metadata": {
        "colab": {
          "base_uri": "https://localhost:8080/"
        },
        "id": "nT26hAoxzeW0",
        "outputId": "87161712-73b9-4edc-c01e-14c7c9622469"
      },
      "execution_count": null,
      "outputs": [
        {
          "output_type": "stream",
          "name": "stdout",
          "text": [
            "Null hypothesis is rejected.\n"
          ]
        }
      ]
    },
    {
      "cell_type": "markdown",
      "source": [
        "The printed code is \"Null hypothesis is rejected\". It means that the null hypothesis is rejected with the probability of 95% and the means of our two different samples taken from the dataset are different from each other."
      ],
      "metadata": {
        "id": "e2AtEodXztJz"
      }
    },
    {
      "cell_type": "markdown",
      "source": [
        "## Machine Learning Models\n",
        "In this part, we will try to predict the rating of a movie with various machine learning models."
      ],
      "metadata": {
        "id": "gN_LHJqS0rvy"
      }
    },
    {
      "cell_type": "code",
      "source": [
        "import seaborn as sns # for data visualization \n",
        "%matplotlib inline\n",
        "sns.set_style(\"whitegrid\")\n",
        "\n",
        "import warnings \n",
        "warnings.filterwarnings(\"ignore\")"
      ],
      "metadata": {
        "id": "XEV3jb0yzuOi"
      },
      "execution_count": null,
      "outputs": []
    },
    {
      "cell_type": "markdown",
      "source": [
        "### Prediction of movie rating with various machine learning models\n",
        "In this part, we will check the correlations between \"rating\" and other features since in this part we are going to make a prediction of a movies' rating with various machine learning models."
      ],
      "metadata": {
        "id": "L3JE7Sj01CiI"
      }
    },
    {
      "cell_type": "code",
      "source": [
        "df_final = df.dropna()\n",
        "sns.distplot(df_final['Rating']).set_title('Rating Distribution')"
      ],
      "metadata": {
        "colab": {
          "base_uri": "https://localhost:8080/",
          "height": 312
        },
        "id": "RvUvhLyZ08fE",
        "outputId": "0fbab097-cfc0-46f4-e080-1de4f10fd205"
      },
      "execution_count": null,
      "outputs": [
        {
          "output_type": "execute_result",
          "data": {
            "text/plain": [
              "Text(0.5, 1.0, 'Rating Distribution')"
            ]
          },
          "metadata": {},
          "execution_count": 11
        },
        {
          "output_type": "display_data",
          "data": {
            "text/plain": [
              "<Figure size 432x288 with 1 Axes>"
            ],
            "image/png": "[encoded data removed]"
          },
          "metadata": {}
        }
      ]
    },
    {
      "cell_type": "markdown",
      "source": [
        "Now we will check the correlation between different variables. Although we have created a heatmap previously, we will have a correlation table as we may need it in the upcoming parts."
      ],
      "metadata": {
        "id": "8Wzmu6-E12H6"
      }
    },
    {
      "cell_type": "code",
      "source": [
        "df_final.corr()"
      ],
      "metadata": {
        "colab": {
          "base_uri": "https://localhost:8080/",
          "height": 522
        },
        "id": "WWABdcJ_1tLu",
        "outputId": "df87e7d3-3c2a-49dd-e8e0-02ab51471376"
      },
      "execution_count": null,
      "outputs": [
        {
          "output_type": "execute_result",
          "data": {
            "text/plain": [
              "                    Unnamed: 0      Rank      Year  Runtime (Minutes)  \\\n",
              "Unnamed: 0            1.000000  0.999997 -0.279182          -0.180921   \n",
              "Rank                  0.999997  1.000000 -0.279208          -0.180941   \n",
              "Year                 -0.279182 -0.279208  1.000000          -0.161450   \n",
              "Runtime (Minutes)    -0.180921 -0.180941 -0.161450           1.000000   \n",
              "Rating               -0.169079 -0.169051 -0.227475           0.395426   \n",
              "Votes                -0.227025 -0.226996 -0.466505           0.366148   \n",
              "Revenue (Millions)   -0.137560 -0.137571 -0.145169           0.127894   \n",
              "Metascore            -0.161665 -0.161694 -0.077515           0.212397   \n",
              "imdbID               -0.189414 -0.189453  0.732810          -0.205696   \n",
              "movieLensID          -0.290669 -0.290712  0.938117          -0.188523   \n",
              "norm_votes           -0.227025 -0.226996 -0.466505           0.366148   \n",
              "stand_votes          -0.227025 -0.226996 -0.466505           0.366148   \n",
              "\n",
              "                      Rating     Votes  Revenue (Millions)  Metascore  \\\n",
              "Unnamed: 0         -0.169079 -0.227025           -0.137560  -0.161665   \n",
              "Rank               -0.169051 -0.226996           -0.137571  -0.161694   \n",
              "Year               -0.227475 -0.466505           -0.145169  -0.077515   \n",
              "Runtime (Minutes)   0.395426  0.366148            0.127894   0.212397   \n",
              "Rating              1.000000  0.496413            0.048244   0.589335   \n",
              "Votes               0.496413  1.000000            0.470492   0.299490   \n",
              "Revenue (Millions)  0.048244  0.470492            1.000000   0.028609   \n",
              "Metascore           0.589335  0.299490            0.028609   1.000000   \n",
              "imdbID             -0.178187 -0.461302           -0.169282   0.024233   \n",
              "movieLensID        -0.242391 -0.527130           -0.167252  -0.054124   \n",
              "norm_votes          0.496413  1.000000            0.470492   0.299490   \n",
              "stand_votes         0.496413  1.000000            0.470492   0.299490   \n",
              "\n",
              "                      imdbID  movieLensID  norm_votes  stand_votes  \n",
              "Unnamed: 0         -0.189414    -0.290669   -0.227025    -0.227025  \n",
              "Rank               -0.189453    -0.290712   -0.226996    -0.226996  \n",
              "Year                0.732810     0.938117   -0.466505    -0.466505  \n",
              "Runtime (Minutes)  -0.205696    -0.188523    0.366148     0.366148  \n",
              "Rating             -0.178187    -0.242391    0.496413     0.496413  \n",
              "Votes              -0.461302    -0.527130    1.000000     1.000000  \n",
              "Revenue (Millions) -0.169282    -0.167252    0.470492     0.470492  \n",
              "Metascore           0.024233    -0.054124    0.299490     0.299490  \n",
              "imdbID              1.000000     0.762501   -0.461302    -0.461302  \n",
              "movieLensID         0.762501     1.000000   -0.527130    -0.527130  \n",
              "norm_votes         -0.461302    -0.527130    1.000000     1.000000  \n",
              "stand_votes        -0.461302    -0.527130    1.000000     1.000000  "
            ],
            "text/html": [
              "\n",
              "  <div id=\"df-094a1294-de5f-48e4-8ab9-1121f81d5ed9\">\n",
              "    <div class=\"colab-df-container\">\n",
              "      <div>\n",
              "<style scoped>\n",
              "    .dataframe tbody tr th:only-of-type {\n",
              "        vertical-align: middle;\n",
              "    }\n",
              "\n",
              "    .dataframe tbody tr th {\n",
              "        vertical-align: top;\n",
              "    }\n",
              "\n",
              "    .dataframe thead th {\n",
              "        text-align: right;\n",
              "    }\n",
              "</style>\n",
              "<table border=\"1\" class=\"dataframe\">\n",
              "  <thead>\n",
              "    <tr style=\"text-align: right;\">\n",
              "      <th></th>\n",
              "      <th>Unnamed: 0</th>\n",
              "      <th>Rank</th>\n",
              "      <th>Year</th>\n",
              "      <th>Runtime (Minutes)</th>\n",
              "      <th>Rating</th>\n",
              "      <th>Votes</th>\n",
              "      <th>Revenue (Millions)</th>\n",
              "      <th>Metascore</th>\n",
              "      <th>imdbID</th>\n",
              "      <th>movieLensID</th>\n",
              "      <th>norm_votes</th>\n",
              "      <th>stand_votes</th>\n",
              "    </tr>\n",
              "  </thead>\n",
              "  <tbody>\n",
              "    <tr>\n",
              "      <th>Unnamed: 0</th>\n",
              "      <td>1.000000</td>\n",
              "      <td>0.999997</td>\n",
              "      <td>-0.279182</td>\n",
              "      <td>-0.180921</td>\n",
              "      <td>-0.169079</td>\n",
              "      <td>-0.227025</td>\n",
              "      <td>-0.137560</td>\n",
              "      <td>-0.161665</td>\n",
              "      <td>-0.189414</td>\n",
              "      <td>-0.290669</td>\n",
              "      <td>-0.227025</td>\n",
              "      <td>-0.227025</td>\n",
              "    </tr>\n",
              "    <tr>\n",
              "      <th>Rank</th>\n",
              "      <td>0.999997</td>\n",
              "      <td>1.000000</td>\n",
              "      <td>-0.279208</td>\n",
              "      <td>-0.180941</td>\n",
              "      <td>-0.169051</td>\n",
              "      <td>-0.226996</td>\n",
              "      <td>-0.137571</td>\n",
              "      <td>-0.161694</td>\n",
              "      <td>-0.189453</td>\n",
              "      <td>-0.290712</td>\n",
              "      <td>-0.226996</td>\n",
              "      <td>-0.226996</td>\n",
              "    </tr>\n",
              "    <tr>\n",
              "      <th>Year</th>\n",
              "      <td>-0.279182</td>\n",
              "      <td>-0.279208</td>\n",
              "      <td>1.000000</td>\n",
              "      <td>-0.161450</td>\n",
              "      <td>-0.227475</td>\n",
              "      <td>-0.466505</td>\n",
              "      <td>-0.145169</td>\n",
              "      <td>-0.077515</td>\n",
              "      <td>0.732810</td>\n",
              "      <td>0.938117</td>\n",
              "      <td>-0.466505</td>\n",
              "      <td>-0.466505</td>\n",
              "    </tr>\n",
              "    <tr>\n",
              "      <th>Runtime (Minutes)</th>\n",
              "      <td>-0.180921</td>\n",
              "      <td>-0.180941</td>\n",
              "      <td>-0.161450</td>\n",
              "      <td>1.000000</td>\n",
              "      <td>0.395426</td>\n",
              "      <td>0.366148</td>\n",
              "      <td>0.127894</td>\n",
              "      <td>0.212397</td>\n",
              "      <td>-0.205696</td>\n",
              "      <td>-0.188523</td>\n",
              "      <td>0.366148</td>\n",
              "      <td>0.366148</td>\n",
              "    </tr>\n",
              "    <tr>\n",
              "      <th>Rating</th>\n",
              "      <td>-0.169079</td>\n",
              "      <td>-0.169051</td>\n",
              "      <td>-0.227475</td>\n",
              "      <td>0.395426</td>\n",
              "      <td>1.000000</td>\n",
              "      <td>0.496413</td>\n",
              "      <td>0.048244</td>\n",
              "      <td>0.589335</td>\n",
              "      <td>-0.178187</td>\n",
              "      <td>-0.242391</td>\n",
              "      <td>0.496413</td>\n",
              "      <td>0.496413</td>\n",
              "    </tr>\n",
              "    <tr>\n",
              "      <th>Votes</th>\n",
              "      <td>-0.227025</td>\n",
              "      <td>-0.226996</td>\n",
              "      <td>-0.466505</td>\n",
              "      <td>0.366148</td>\n",
              "      <td>0.496413</td>\n",
              "      <td>1.000000</td>\n",
              "      <td>0.470492</td>\n",
              "      <td>0.299490</td>\n",
              "      <td>-0.461302</td>\n",
              "      <td>-0.527130</td>\n",
              "      <td>1.000000</td>\n",
              "      <td>1.000000</td>\n",
              "    </tr>\n",
              "    <tr>\n",
              "      <th>Revenue (Millions)</th>\n",
              "      <td>-0.137560</td>\n",
              "      <td>-0.137571</td>\n",
              "      <td>-0.145169</td>\n",
              "      <td>0.127894</td>\n",
              "      <td>0.048244</td>\n",
              "      <td>0.470492</td>\n",
              "      <td>1.000000</td>\n",
              "      <td>0.028609</td>\n",
              "      <td>-0.169282</td>\n",
              "      <td>-0.167252</td>\n",
              "      <td>0.470492</td>\n",
              "      <td>0.470492</td>\n",
              "    </tr>\n",
              "    <tr>\n",
              "      <th>Metascore</th>\n",
              "      <td>-0.161665</td>\n",
              "      <td>-0.161694</td>\n",
              "      <td>-0.077515</td>\n",
              "      <td>0.212397</td>\n",
              "      <td>0.589335</td>\n",
              "      <td>0.299490</td>\n",
              "      <td>0.028609</td>\n",
              "      <td>1.000000</td>\n",
              "      <td>0.024233</td>\n",
              "      <td>-0.054124</td>\n",
              "      <td>0.299490</td>\n",
              "      <td>0.299490</td>\n",
              "    </tr>\n",
              "    <tr>\n",
              "      <th>imdbID</th>\n",
              "      <td>-0.189414</td>\n",
              "      <td>-0.189453</td>\n",
              "      <td>0.732810</td>\n",
              "      <td>-0.205696</td>\n",
              "      <td>-0.178187</td>\n",
              "      <td>-0.461302</td>\n",
              "      <td>-0.169282</td>\n",
              "      <td>0.024233</td>\n",
              "      <td>1.000000</td>\n",
              "      <td>0.762501</td>\n",
              "      <td>-0.461302</td>\n",
              "      <td>-0.461302</td>\n",
              "    </tr>\n",
              "    <tr>\n",
              "      <th>movieLensID</th>\n",
              "      <td>-0.290669</td>\n",
              "      <td>-0.290712</td>\n",
              "      <td>0.938117</td>\n",
              "      <td>-0.188523</td>\n",
              "      <td>-0.242391</td>\n",
              "      <td>-0.527130</td>\n",
              "      <td>-0.167252</td>\n",
              "      <td>-0.054124</td>\n",
              "      <td>0.762501</td>\n",
              "      <td>1.000000</td>\n",
              "      <td>-0.527130</td>\n",
              "      <td>-0.527130</td>\n",
              "    </tr>\n",
              "    <tr>\n",
              "      <th>norm_votes</th>\n",
              "      <td>-0.227025</td>\n",
              "      <td>-0.226996</td>\n",
              "      <td>-0.466505</td>\n",
              "      <td>0.366148</td>\n",
              "      <td>0.496413</td>\n",
              "      <td>1.000000</td>\n",
              "      <td>0.470492</td>\n",
              "      <td>0.299490</td>\n",
              "      <td>-0.461302</td>\n",
              "      <td>-0.527130</td>\n",
              "      <td>1.000000</td>\n",
              "      <td>1.000000</td>\n",
              "    </tr>\n",
              "    <tr>\n",
              "      <th>stand_votes</th>\n",
              "      <td>-0.227025</td>\n",
              "      <td>-0.226996</td>\n",
              "      <td>-0.466505</td>\n",
              "      <td>0.366148</td>\n",
              "      <td>0.496413</td>\n",
              "      <td>1.000000</td>\n",
              "      <td>0.470492</td>\n",
              "      <td>0.299490</td>\n",
              "      <td>-0.461302</td>\n",
              "      <td>-0.527130</td>\n",
              "      <td>1.000000</td>\n",
              "      <td>1.000000</td>\n",
              "    </tr>\n",
              "  </tbody>\n",
              "</table>\n",
              "</div>\n",
              "      <button class=\"colab-df-convert\" onclick=\"convertToInteractive('df-094a1294-de5f-48e4-8ab9-1121f81d5ed9')\"\n",
              "              title=\"Convert this dataframe to an interactive table.\"\n",
              "              style=\"display:none;\">\n",
              "        \n",
              "  <svg xmlns=\"http://www.w3.org/2000/svg\" height=\"24px\"viewBox=\"0 0 24 24\"\n",
              "       width=\"24px\">\n",
              "    <path d=\"M0 0h24v24H0V0z\" fill=\"none\"/>\n",
              "    <path d=\"M18.56 5.44l.94 2.06.94-2.06 2.06-.94-2.06-.94-.94-2.06-.94 2.06-2.06.94zm-11 1L8.5 8.5l.94-2.06 2.06-.94-2.06-.94L8.5 2.5l-.94 2.06-2.06.94zm10 10l.94 2.06.94-2.06 2.06-.94-2.06-.94-.94-2.06-.94 2.06-2.06.94z\"/><path d=\"M17.41 7.96l-1.37-1.37c-.4-.4-.92-.59-1.43-.59-.52 0-1.04.2-1.43.59L10.3 9.45l-7.72 7.72c-.78.78-.78 2.05 0 2.83L4 21.41c.39.39.9.59 1.41.59.51 0 1.02-.2 1.41-.59l7.78-7.78 2.81-2.81c.8-.78.8-2.07 0-2.86zM5.41 20L4 18.59l7.72-7.72 1.47 1.35L5.41 20z\"/>\n",
              "  </svg>\n",
              "      </button>\n",
              "      \n",
              "  <style>\n",
              "    .colab-df-container {\n",
              "      display:flex;\n",
              "      flex-wrap:wrap;\n",
              "      gap: 12px;\n",
              "    }\n",
              "\n",
              "    .colab-df-convert {\n",
              "      background-color: #E8F0FE;\n",
              "      border: none;\n",
              "      border-radius: 50%;\n",
              "      cursor: pointer;\n",
              "      display: none;\n",
              "      fill: #1967D2;\n",
              "      height: 32px;\n",
              "      padding: 0 0 0 0;\n",
              "      width: 32px;\n",
              "    }\n",
              "\n",
              "    .colab-df-convert:hover {\n",
              "      background-color: #E2EBFA;\n",
              "      box-shadow: 0px 1px 2px rgba(60, 64, 67, 0.3), 0px 1px 3px 1px rgba(60, 64, 67, 0.15);\n",
              "      fill: #174EA6;\n",
              "    }\n",
              "\n",
              "    [theme=dark] .colab-df-convert {\n",
              "      background-color: #3B4455;\n",
              "      fill: #D2E3FC;\n",
              "    }\n",
              "\n",
              "    [theme=dark] .colab-df-convert:hover {\n",
              "      background-color: #434B5C;\n",
              "      box-shadow: 0px 1px 3px 1px rgba(0, 0, 0, 0.15);\n",
              "      filter: drop-shadow(0px 1px 2px rgba(0, 0, 0, 0.3));\n",
              "      fill: #FFFFFF;\n",
              "    }\n",
              "  </style>\n",
              "\n",
              "      <script>\n",
              "        const buttonEl =\n",
              "          document.querySelector('#df-094a1294-de5f-48e4-8ab9-1121f81d5ed9 button.colab-df-convert');\n",
              "        buttonEl.style.display =\n",
              "          google.colab.kernel.accessAllowed ? 'block' : 'none';\n",
              "\n",
              "        async function convertToInteractive(key) {\n",
              "          const element = document.querySelector('#df-094a1294-de5f-48e4-8ab9-1121f81d5ed9');\n",
              "          const dataTable =\n",
              "            await google.colab.kernel.invokeFunction('convertToInteractive',\n",
              "                                                     [key], {});\n",
              "          if (!dataTable) return;\n",
              "\n",
              "          const docLinkHtml = 'Like what you see? Visit the ' +\n",
              "            '<a target=\"_blank\" href=https://colab.research.google.com/notebooks/data_table.ipynb>data table notebook</a>'\n",
              "            + ' to learn more about interactive tables.';\n",
              "          element.innerHTML = '';\n",
              "          dataTable['output_type'] = 'display_data';\n",
              "          await google.colab.output.renderOutput(dataTable, element);\n",
              "          const docLink = document.createElement('div');\n",
              "          docLink.innerHTML = docLinkHtml;\n",
              "          element.appendChild(docLink);\n",
              "        }\n",
              "      </script>\n",
              "    </div>\n",
              "  </div>\n",
              "  "
            ]
          },
          "metadata": {},
          "execution_count": 25
        }
      ]
    },
    {
      "cell_type": "markdown",
      "source": [
        "Although it is not necessary, we will convert the rating values into binary values."
      ],
      "metadata": {
        "id": "Y8pzxmvS2A-L"
      }
    },
    {
      "cell_type": "code",
      "source": [
        "df_final.Rating.describe()"
      ],
      "metadata": {
        "colab": {
          "base_uri": "https://localhost:8080/"
        },
        "id": "qNKPuNuA18ib",
        "outputId": "1f0ccf48-455c-4780-8f50-4b9ec70f4672"
      },
      "execution_count": null,
      "outputs": [
        {
          "output_type": "execute_result",
          "data": {
            "text/plain": [
              "count    912.000000\n",
              "mean       6.672478\n",
              "std        0.933108\n",
              "min        1.900000\n",
              "25%        6.100000\n",
              "50%        6.700000\n",
              "75%        7.300000\n",
              "max        8.800000\n",
              "Name: Rating, dtype: float64"
            ]
          },
          "metadata": {},
          "execution_count": 32
        }
      ]
    },
    {
      "cell_type": "markdown",
      "source": [
        "After looking at these results, we decided to define ratings above 7.3 as high ratings whereas ratings below 7.3 will be considered as low ratings. Using this model, we will encode high ratings as \"1\" and low ratings as \"0\"."
      ],
      "metadata": {
        "id": "F0-luQSC2le9"
      }
    },
    {
      "cell_type": "code",
      "source": [
        "df_final.loc[df_final['Rating'] < 7.3, 'Rating'] = 0 \n",
        "df_final.loc[df_final['Rating'] >= 7.3, 'Rating'] = 1\n",
        "df_final.loc[df_final['Rating'] == 1 ]"
      ],
      "metadata": {
        "colab": {
          "base_uri": "https://localhost:8080/",
          "height": 919
        },
        "id": "c_rFceyz2pI8",
        "outputId": "68df631e-d1b7-4e78-d7ea-9dd72df7efa4"
      },
      "execution_count": null,
      "outputs": [
        {
          "output_type": "execute_result",
          "data": {
            "text/plain": [
              "     Unnamed: 0  Rank                                    Title  \\\n",
              "0             0     1                  Guardians of the Galaxy   \n",
              "2             2     3                                    Split   \n",
              "6             6     7                               La La Land   \n",
              "10           10    11  Fantastic Beasts and Where to Find Them   \n",
              "11           11    12                           Hidden Figures   \n",
              "..          ...   ...                                      ...   \n",
              "967         967   975                           Queen of Katwe   \n",
              "972         972   980                       The Skin I Live In   \n",
              "975         975   983                      Across the Universe   \n",
              "982         982   990                                    Selma   \n",
              "984         984   992                         Taare Zameen Par   \n",
              "\n",
              "                        Genre  \\\n",
              "0     Action,Adventure,Sci-Fi   \n",
              "2             Horror,Thriller   \n",
              "6          Comedy,Drama,Music   \n",
              "10   Adventure,Family,Fantasy   \n",
              "11    Biography,Drama,History   \n",
              "..                        ...   \n",
              "967     Biography,Drama,Sport   \n",
              "972            Drama,Thriller   \n",
              "975     Drama,Fantasy,Musical   \n",
              "982   Biography,Drama,History   \n",
              "984        Drama,Family,Music   \n",
              "\n",
              "                                           Description            Director  \\\n",
              "0    A group of intergalactic criminals are forced ...          James Gunn   \n",
              "2    Three girls are kidnapped by a man with a diag...  M. Night Shyamalan   \n",
              "6    A jazz pianist falls for an aspiring actress i...     Damien Chazelle   \n",
              "10   The adventures of writer Newt Scamander in New...         David Yates   \n",
              "11   The story of a team of female African-American...      Theodore Melfi   \n",
              "..                                                 ...                 ...   \n",
              "967  A Ugandan girl sees her world rapidly change a...           Mira Nair   \n",
              "972  A brilliant plastic surgeon, haunted by past t...     Pedro Almodóvar   \n",
              "975  The music of the Beatles and the Vietnam War f...        Julie Taymor   \n",
              "982  A chronicle of Martin Luther King's campaign t...        Ava DuVernay   \n",
              "984  An eight-year-old boy is thought to be a lazy ...          Aamir Khan   \n",
              "\n",
              "                                                Actors  Year  \\\n",
              "0    Chris Pratt, Vin Diesel, Bradley Cooper, Zoe S...  2014   \n",
              "2    James McAvoy, Anya Taylor-Joy, Haley Lu Richar...  2016   \n",
              "6    Ryan Gosling, Emma Stone, Rosemarie DeWitt, J....  2016   \n",
              "10   Eddie Redmayne, Katherine Waterston, Alison Su...  2016   \n",
              "11   Taraji P. Henson, Octavia Spencer, Janelle Mon...  2016   \n",
              "..                                                 ...   ...   \n",
              "967  Madina Nalwanga, David Oyelowo, Lupita Nyong'o...  2016   \n",
              "972  Antonio Banderas, Elena Anaya, Jan Cornet,Mari...  2011   \n",
              "975  Evan Rachel Wood, Jim Sturgess, Joe Anderson, ...  2007   \n",
              "982  David Oyelowo, Carmen Ejogo, Tim Roth, Lorrain...  2014   \n",
              "984  Darsheel Safary, Aamir Khan, Tanay Chheda, Sac...  2007   \n",
              "\n",
              "     Runtime (Minutes)  Rating   Votes  Revenue (Millions)  Metascore  \\\n",
              "0                  121     1.0  757074              333.13  76.000000   \n",
              "2                  117     1.0  157606              138.12  62.000000   \n",
              "6                  128     1.0  258682              151.06  93.000000   \n",
              "10                 133     1.0  232072              234.02  66.000000   \n",
              "11                 127     1.0   93103              169.27  74.000000   \n",
              "..                 ...     ...     ...                 ...        ...   \n",
              "967                124     1.0    6753                8.81  73.000000   \n",
              "972                120     1.0  108772                3.19  70.000000   \n",
              "975                133     1.0   95172               24.34  56.000000   \n",
              "982                128     1.0   67637               52.07  58.965591   \n",
              "984                165     1.0  102697                1.20  42.000000   \n",
              "\n",
              "      imdbID  movieLensID  \n",
              "0    2015381     112852.0  \n",
              "2    4972582     166534.0  \n",
              "6    3783958     164909.0  \n",
              "10   3183660     135143.0  \n",
              "11   4846340     166643.0  \n",
              "..       ...          ...  \n",
              "967  4341582     162596.0  \n",
              "972  1189073      89118.0  \n",
              "975   445922      54190.0  \n",
              "982  1020072     118700.0  \n",
              "984   986264      57183.0  \n",
              "\n",
              "[304 rows x 15 columns]"
            ],
            "text/html": [
              "\n",
              "  <div id=\"df-71b334df-47a1-45f5-90c5-39cceeb9da9d\">\n",
              "    <div class=\"colab-df-container\">\n",
              "      <div>\n",
              "<style scoped>\n",
              "    .dataframe tbody tr th:only-of-type {\n",
              "        vertical-align: middle;\n",
              "    }\n",
              "\n",
              "    .dataframe tbody tr th {\n",
              "        vertical-align: top;\n",
              "    }\n",
              "\n",
              "    .dataframe thead th {\n",
              "        text-align: right;\n",
              "    }\n",
              "</style>\n",
              "<table border=\"1\" class=\"dataframe\">\n",
              "  <thead>\n",
              "    <tr style=\"text-align: right;\">\n",
              "      <th></th>\n",
              "      <th>Unnamed: 0</th>\n",
              "      <th>Rank</th>\n",
              "      <th>Title</th>\n",
              "      <th>Genre</th>\n",
              "      <th>Description</th>\n",
              "      <th>Director</th>\n",
              "      <th>Actors</th>\n",
              "      <th>Year</th>\n",
              "      <th>Runtime (Minutes)</th>\n",
              "      <th>Rating</th>\n",
              "      <th>Votes</th>\n",
              "      <th>Revenue (Millions)</th>\n",
              "      <th>Metascore</th>\n",
              "      <th>imdbID</th>\n",
              "      <th>movieLensID</th>\n",
              "    </tr>\n",
              "  </thead>\n",
              "  <tbody>\n",
              "    <tr>\n",
              "      <th>0</th>\n",
              "      <td>0</td>\n",
              "      <td>1</td>\n",
              "      <td>Guardians of the Galaxy</td>\n",
              "      <td>Action,Adventure,Sci-Fi</td>\n",
              "      <td>A group of intergalactic criminals are forced ...</td>\n",
              "      <td>James Gunn</td>\n",
              "      <td>Chris Pratt, Vin Diesel, Bradley Cooper, Zoe S...</td>\n",
              "      <td>2014</td>\n",
              "      <td>121</td>\n",
              "      <td>1.0</td>\n",
              "      <td>757074</td>\n",
              "      <td>333.13</td>\n",
              "      <td>76.000000</td>\n",
              "      <td>2015381</td>\n",
              "      <td>112852.0</td>\n",
              "    </tr>\n",
              "    <tr>\n",
              "      <th>2</th>\n",
              "      <td>2</td>\n",
              "      <td>3</td>\n",
              "      <td>Split</td>\n",
              "      <td>Horror,Thriller</td>\n",
              "      <td>Three girls are kidnapped by a man with a diag...</td>\n",
              "      <td>M. Night Shyamalan</td>\n",
              "      <td>James McAvoy, Anya Taylor-Joy, Haley Lu Richar...</td>\n",
              "      <td>2016</td>\n",
              "      <td>117</td>\n",
              "      <td>1.0</td>\n",
              "      <td>157606</td>\n",
              "      <td>138.12</td>\n",
              "      <td>62.000000</td>\n",
              "      <td>4972582</td>\n",
              "      <td>166534.0</td>\n",
              "    </tr>\n",
              "    <tr>\n",
              "      <th>6</th>\n",
              "      <td>6</td>\n",
              "      <td>7</td>\n",
              "      <td>La La Land</td>\n",
              "      <td>Comedy,Drama,Music</td>\n",
              "      <td>A jazz pianist falls for an aspiring actress i...</td>\n",
              "      <td>Damien Chazelle</td>\n",
              "      <td>Ryan Gosling, Emma Stone, Rosemarie DeWitt, J....</td>\n",
              "      <td>2016</td>\n",
              "      <td>128</td>\n",
              "      <td>1.0</td>\n",
              "      <td>258682</td>\n",
              "      <td>151.06</td>\n",
              "      <td>93.000000</td>\n",
              "      <td>3783958</td>\n",
              "      <td>164909.0</td>\n",
              "    </tr>\n",
              "    <tr>\n",
              "      <th>10</th>\n",
              "      <td>10</td>\n",
              "      <td>11</td>\n",
              "      <td>Fantastic Beasts and Where to Find Them</td>\n",
              "      <td>Adventure,Family,Fantasy</td>\n",
              "      <td>The adventures of writer Newt Scamander in New...</td>\n",
              "      <td>David Yates</td>\n",
              "      <td>Eddie Redmayne, Katherine Waterston, Alison Su...</td>\n",
              "      <td>2016</td>\n",
              "      <td>133</td>\n",
              "      <td>1.0</td>\n",
              "      <td>232072</td>\n",
              "      <td>234.02</td>\n",
              "      <td>66.000000</td>\n",
              "      <td>3183660</td>\n",
              "      <td>135143.0</td>\n",
              "    </tr>\n",
              "    <tr>\n",
              "      <th>11</th>\n",
              "      <td>11</td>\n",
              "      <td>12</td>\n",
              "      <td>Hidden Figures</td>\n",
              "      <td>Biography,Drama,History</td>\n",
              "      <td>The story of a team of female African-American...</td>\n",
              "      <td>Theodore Melfi</td>\n",
              "      <td>Taraji P. Henson, Octavia Spencer, Janelle Mon...</td>\n",
              "      <td>2016</td>\n",
              "      <td>127</td>\n",
              "      <td>1.0</td>\n",
              "      <td>93103</td>\n",
              "      <td>169.27</td>\n",
              "      <td>74.000000</td>\n",
              "      <td>4846340</td>\n",
              "      <td>166643.0</td>\n",
              "    </tr>\n",
              "    <tr>\n",
              "      <th>...</th>\n",
              "      <td>...</td>\n",
              "      <td>...</td>\n",
              "      <td>...</td>\n",
              "      <td>...</td>\n",
              "      <td>...</td>\n",
              "      <td>...</td>\n",
              "      <td>...</td>\n",
              "      <td>...</td>\n",
              "      <td>...</td>\n",
              "      <td>...</td>\n",
              "      <td>...</td>\n",
              "      <td>...</td>\n",
              "      <td>...</td>\n",
              "      <td>...</td>\n",
              "      <td>...</td>\n",
              "    </tr>\n",
              "    <tr>\n",
              "      <th>967</th>\n",
              "      <td>967</td>\n",
              "      <td>975</td>\n",
              "      <td>Queen of Katwe</td>\n",
              "      <td>Biography,Drama,Sport</td>\n",
              "      <td>A Ugandan girl sees her world rapidly change a...</td>\n",
              "      <td>Mira Nair</td>\n",
              "      <td>Madina Nalwanga, David Oyelowo, Lupita Nyong'o...</td>\n",
              "      <td>2016</td>\n",
              "      <td>124</td>\n",
              "      <td>1.0</td>\n",
              "      <td>6753</td>\n",
              "      <td>8.81</td>\n",
              "      <td>73.000000</td>\n",
              "      <td>4341582</td>\n",
              "      <td>162596.0</td>\n",
              "    </tr>\n",
              "    <tr>\n",
              "      <th>972</th>\n",
              "      <td>972</td>\n",
              "      <td>980</td>\n",
              "      <td>The Skin I Live In</td>\n",
              "      <td>Drama,Thriller</td>\n",
              "      <td>A brilliant plastic surgeon, haunted by past t...</td>\n",
              "      <td>Pedro Almodóvar</td>\n",
              "      <td>Antonio Banderas, Elena Anaya, Jan Cornet,Mari...</td>\n",
              "      <td>2011</td>\n",
              "      <td>120</td>\n",
              "      <td>1.0</td>\n",
              "      <td>108772</td>\n",
              "      <td>3.19</td>\n",
              "      <td>70.000000</td>\n",
              "      <td>1189073</td>\n",
              "      <td>89118.0</td>\n",
              "    </tr>\n",
              "    <tr>\n",
              "      <th>975</th>\n",
              "      <td>975</td>\n",
              "      <td>983</td>\n",
              "      <td>Across the Universe</td>\n",
              "      <td>Drama,Fantasy,Musical</td>\n",
              "      <td>The music of the Beatles and the Vietnam War f...</td>\n",
              "      <td>Julie Taymor</td>\n",
              "      <td>Evan Rachel Wood, Jim Sturgess, Joe Anderson, ...</td>\n",
              "      <td>2007</td>\n",
              "      <td>133</td>\n",
              "      <td>1.0</td>\n",
              "      <td>95172</td>\n",
              "      <td>24.34</td>\n",
              "      <td>56.000000</td>\n",
              "      <td>445922</td>\n",
              "      <td>54190.0</td>\n",
              "    </tr>\n",
              "    <tr>\n",
              "      <th>982</th>\n",
              "      <td>982</td>\n",
              "      <td>990</td>\n",
              "      <td>Selma</td>\n",
              "      <td>Biography,Drama,History</td>\n",
              "      <td>A chronicle of Martin Luther King's campaign t...</td>\n",
              "      <td>Ava DuVernay</td>\n",
              "      <td>David Oyelowo, Carmen Ejogo, Tim Roth, Lorrain...</td>\n",
              "      <td>2014</td>\n",
              "      <td>128</td>\n",
              "      <td>1.0</td>\n",
              "      <td>67637</td>\n",
              "      <td>52.07</td>\n",
              "      <td>58.965591</td>\n",
              "      <td>1020072</td>\n",
              "      <td>118700.0</td>\n",
              "    </tr>\n",
              "    <tr>\n",
              "      <th>984</th>\n",
              "      <td>984</td>\n",
              "      <td>992</td>\n",
              "      <td>Taare Zameen Par</td>\n",
              "      <td>Drama,Family,Music</td>\n",
              "      <td>An eight-year-old boy is thought to be a lazy ...</td>\n",
              "      <td>Aamir Khan</td>\n",
              "      <td>Darsheel Safary, Aamir Khan, Tanay Chheda, Sac...</td>\n",
              "      <td>2007</td>\n",
              "      <td>165</td>\n",
              "      <td>1.0</td>\n",
              "      <td>102697</td>\n",
              "      <td>1.20</td>\n",
              "      <td>42.000000</td>\n",
              "      <td>986264</td>\n",
              "      <td>57183.0</td>\n",
              "    </tr>\n",
              "  </tbody>\n",
              "</table>\n",
              "<p>304 rows × 15 columns</p>\n",
              "</div>\n",
              "      <button class=\"colab-df-convert\" onclick=\"convertToInteractive('df-71b334df-47a1-45f5-90c5-39cceeb9da9d')\"\n",
              "              title=\"Convert this dataframe to an interactive table.\"\n",
              "              style=\"display:none;\">\n",
              "        \n",
              "  <svg xmlns=\"http://www.w3.org/2000/svg\" height=\"24px\"viewBox=\"0 0 24 24\"\n",
              "       width=\"24px\">\n",
              "    <path d=\"M0 0h24v24H0V0z\" fill=\"none\"/>\n",
              "    <path d=\"M18.56 5.44l.94 2.06.94-2.06 2.06-.94-2.06-.94-.94-2.06-.94 2.06-2.06.94zm-11 1L8.5 8.5l.94-2.06 2.06-.94-2.06-.94L8.5 2.5l-.94 2.06-2.06.94zm10 10l.94 2.06.94-2.06 2.06-.94-2.06-.94-.94-2.06-.94 2.06-2.06.94z\"/><path d=\"M17.41 7.96l-1.37-1.37c-.4-.4-.92-.59-1.43-.59-.52 0-1.04.2-1.43.59L10.3 9.45l-7.72 7.72c-.78.78-.78 2.05 0 2.83L4 21.41c.39.39.9.59 1.41.59.51 0 1.02-.2 1.41-.59l7.78-7.78 2.81-2.81c.8-.78.8-2.07 0-2.86zM5.41 20L4 18.59l7.72-7.72 1.47 1.35L5.41 20z\"/>\n",
              "  </svg>\n",
              "      </button>\n",
              "      \n",
              "  <style>\n",
              "    .colab-df-container {\n",
              "      display:flex;\n",
              "      flex-wrap:wrap;\n",
              "      gap: 12px;\n",
              "    }\n",
              "\n",
              "    .colab-df-convert {\n",
              "      background-color: #E8F0FE;\n",
              "      border: none;\n",
              "      border-radius: 50%;\n",
              "      cursor: pointer;\n",
              "      display: none;\n",
              "      fill: #1967D2;\n",
              "      height: 32px;\n",
              "      padding: 0 0 0 0;\n",
              "      width: 32px;\n",
              "    }\n",
              "\n",
              "    .colab-df-convert:hover {\n",
              "      background-color: #E2EBFA;\n",
              "      box-shadow: 0px 1px 2px rgba(60, 64, 67, 0.3), 0px 1px 3px 1px rgba(60, 64, 67, 0.15);\n",
              "      fill: #174EA6;\n",
              "    }\n",
              "\n",
              "    [theme=dark] .colab-df-convert {\n",
              "      background-color: #3B4455;\n",
              "      fill: #D2E3FC;\n",
              "    }\n",
              "\n",
              "    [theme=dark] .colab-df-convert:hover {\n",
              "      background-color: #434B5C;\n",
              "      box-shadow: 0px 1px 3px 1px rgba(0, 0, 0, 0.15);\n",
              "      filter: drop-shadow(0px 1px 2px rgba(0, 0, 0, 0.3));\n",
              "      fill: #FFFFFF;\n",
              "    }\n",
              "  </style>\n",
              "\n",
              "      <script>\n",
              "        const buttonEl =\n",
              "          document.querySelector('#df-71b334df-47a1-45f5-90c5-39cceeb9da9d button.colab-df-convert');\n",
              "        buttonEl.style.display =\n",
              "          google.colab.kernel.accessAllowed ? 'block' : 'none';\n",
              "\n",
              "        async function convertToInteractive(key) {\n",
              "          const element = document.querySelector('#df-71b334df-47a1-45f5-90c5-39cceeb9da9d');\n",
              "          const dataTable =\n",
              "            await google.colab.kernel.invokeFunction('convertToInteractive',\n",
              "                                                     [key], {});\n",
              "          if (!dataTable) return;\n",
              "\n",
              "          const docLinkHtml = 'Like what you see? Visit the ' +\n",
              "            '<a target=\"_blank\" href=https://colab.research.google.com/notebooks/data_table.ipynb>data table notebook</a>'\n",
              "            + ' to learn more about interactive tables.';\n",
              "          element.innerHTML = '';\n",
              "          dataTable['output_type'] = 'display_data';\n",
              "          await google.colab.output.renderOutput(dataTable, element);\n",
              "          const docLink = document.createElement('div');\n",
              "          docLink.innerHTML = docLinkHtml;\n",
              "          element.appendChild(docLink);\n",
              "        }\n",
              "      </script>\n",
              "    </div>\n",
              "  </div>\n",
              "  "
            ]
          },
          "metadata": {},
          "execution_count": 12
        }
      ]
    },
    {
      "cell_type": "markdown",
      "source": [
        "### Ratio Between High Ratings and Low Ratings"
      ],
      "metadata": {
        "id": "BtxXmvS73AWi"
      }
    },
    {
      "cell_type": "code",
      "source": [
        "df1 = df_final.copy()\n",
        "ab = df1['Rating'].value_counts()\n",
        "my_label=['Low Rating','High Rating'] \n",
        "my_colors=['blue','red']\n",
        "ax = ab.plot(kind='pie', labels=my_label, autopct='%1.1f%%', colors=my_colors)\n",
        "ax.set_title('Ratio of Ratings')\n",
        "ax.plot()\n",
        "df1.Rating.value_counts()"
      ],
      "metadata": {
        "colab": {
          "base_uri": "https://localhost:8080/",
          "height": 316
        },
        "id": "bCxl3Y_p3GuF",
        "outputId": "0f173d57-a9b6-4f9b-e1f9-4c3fb17f2204"
      },
      "execution_count": null,
      "outputs": [
        {
          "output_type": "execute_result",
          "data": {
            "text/plain": [
              "0.0    689\n",
              "1.0    304\n",
              "Name: Rating, dtype: int64"
            ]
          },
          "metadata": {},
          "execution_count": 13
        },
        {
          "output_type": "display_data",
          "data": {
            "text/plain": [
              "<Figure size 432x288 with 1 Axes>"
            ],
            "image/png": "[encoded data removed]"
          },
          "metadata": {}
        }
      ]
    },
    {
      "cell_type": "markdown",
      "source": [
        "As we can see from the pie chart, we have an imbalanced dataset."
      ],
      "metadata": {
        "id": "4BsK_R2s3Nge"
      }
    },
    {
      "cell_type": "markdown",
      "source": [
        "# Model Fitting and Predicting"
      ],
      "metadata": {
        "id": "YFZwv6-t3vhB"
      }
    },
    {
      "cell_type": "markdown",
      "source": [
        "Now we will continue with the model fitting and predicting. We will use different models:\n",
        "\n",
        "Logistic Regression\n",
        "\n",
        "Random Forest Classifier\n",
        "\n",
        "K-Nearest Neighbors Classifier\n"
      ],
      "metadata": {
        "id": "oO8-x3jn1UAy"
      }
    },
    {
      "cell_type": "code",
      "source": [
        "from sklearn.linear_model import LogisticRegression\n",
        "from sklearn.ensemble import RandomForestClassifier\n",
        "from sklearn.neighbors import KNeighborsClassifier\n",
        "from sklearn.tree import DecisionTreeClassifier\n",
        "from sklearn.svm import SVC, LinearSVC\n",
        "from xgboost import XGBClassifier\n",
        "\n",
        "from sklearn.metrics import make_scorer, accuracy_score, roc_auc_score \n",
        "from sklearn.model_selection import GridSearchCV\n",
        "from sklearn.model_selection import train_test_split"
      ],
      "metadata": {
        "id": "otYcScmZ6Tqn"
      },
      "execution_count": null,
      "outputs": []
    },
    {
      "cell_type": "markdown",
      "source": [
        "\n",
        "We will now split the data into train (70%), validation (15%) and test (15%). We will use train_test_split with random_state parameter set to 0. Also we will drop some columns since they dont give any information such as non-numeric columns.\n",
        "\n",
        "Moreover, as the data is imbalanced, we will use stratified splitting."
      ],
      "metadata": {
        "id": "0ni2-AhB1ZMh"
      }
    },
    {
      "cell_type": "markdown",
      "source": [
        "Some columns were dropped since they don't provide relevant information for the study."
      ],
      "metadata": {
        "id": "lAbKJoKmshDW"
      }
    },
    {
      "cell_type": "code",
      "source": [
        "X = df_final.drop([\"Rank\",\"Rating\", \"Title\", \"Genre\", \"Description\",\n",
        "                   \"Director\", \"Actors\"],axis=1)\n",
        "y = df_final[\"Rating\"]\n",
        "X_train, X_remaining, y_train, y_remaining = train_test_split(X, y, random_state=0, test_size=0.30, stratify = y)\n",
        "X_val, X_test, y_val, y_test = train_test_split(X_remaining, y_remaining, random_state=0, test_size=0.50, stratify = y_remaining)"
      ],
      "metadata": {
        "id": "o2f2JsDRwQxs"
      },
      "execution_count": null,
      "outputs": []
    },
    {
      "cell_type": "markdown",
      "source": [
        "We will first try Random Forest Model, K-Nearest Neighbors and Logistic Regression to see which one will give the most accurate result."
      ],
      "metadata": {
        "id": "aAE1jz8O7w_j"
      }
    },
    {
      "cell_type": "markdown",
      "source": [
        "We have to implement at least two machine learning models so that we can compare them. We decided to use Random Forest Model, K-Nearest Neighbors Classifier and Logistic Regression."
      ],
      "metadata": {
        "id": "WHFOd_dd1fG4"
      }
    },
    {
      "cell_type": "markdown",
      "source": [
        "### Random Forest Model"
      ],
      "metadata": {
        "id": "ff8wYblJwdPw"
      }
    },
    {
      "cell_type": "markdown",
      "source": [
        "Random forest model is made up of a large number of small decision trees, called estimators, which each produce their own predictions"
      ],
      "metadata": {
        "id": "ed5LeSCp1oc2"
      }
    },
    {
      "cell_type": "code",
      "source": [
        "RFC_Model = RandomForestClassifier()\n",
        "RFC_Model.fit(X_train, y_train)\n",
        "RFC_Predict = RFC_Model.predict(X_val)\n",
        "RFC_Accuracy = accuracy_score(y_val, RFC_Predict)\n",
        "print(\"Accuracy: \" + str(RFC_Accuracy))\n",
        "\n",
        "RFC_AUC = roc_auc_score(y_val, RFC_Predict) \n",
        "print(\"AUC: \" + str(RFC_AUC))"
      ],
      "metadata": {
        "colab": {
          "base_uri": "https://localhost:8080/"
        },
        "id": "L4JubV1_wgQL",
        "outputId": "d9c1efd2-4d55-4844-e164-41b53aa66547"
      },
      "execution_count": null,
      "outputs": [
        {
          "output_type": "stream",
          "name": "stdout",
          "text": [
            "Accuracy: 0.8759124087591241\n",
            "AUC: 0.8437990580847723\n"
          ]
        }
      ]
    },
    {
      "cell_type": "markdown",
      "source": [
        "### K-Nearest Neighbors Classifier"
      ],
      "metadata": {
        "id": "nd9VYRB-wjDn"
      }
    },
    {
      "cell_type": "markdown",
      "source": [
        "The k-nearest-neighbor algorithm is an approach to data classification that estimates how likely a data point is to be a member of one group or the other depending on what group the data points nearest to it are in"
      ],
      "metadata": {
        "id": "MwXww4Ki1tYR"
      }
    },
    {
      "cell_type": "code",
      "source": [
        "KNN_Model = KNeighborsClassifier()\n",
        "KNN_Model.fit(X_train, y_train)\n",
        "KNN_Predict = KNN_Model.predict(X_val)\n",
        "KNN_Accuracy = accuracy_score(y_val, KNN_Predict)\n",
        "print(\"Accuracy: \" + str(KNN_Accuracy))\n",
        "\n",
        "KNN_AUC = roc_auc_score(y_val, KNN_Predict) \n",
        "print(\"AUC: \" + str(KNN_AUC))"
      ],
      "metadata": {
        "colab": {
          "base_uri": "https://localhost:8080/"
        },
        "id": "CvWpyeLXwmXv",
        "outputId": "c75ab332-e45d-4ba9-945c-63ee7087be82"
      },
      "execution_count": null,
      "outputs": [
        {
          "output_type": "stream",
          "name": "stdout",
          "text": [
            "Accuracy: 0.7664233576642335\n",
            "AUC: 0.6823652537938252\n"
          ]
        }
      ]
    },
    {
      "cell_type": "markdown",
      "source": [
        "### Logistic Regression"
      ],
      "metadata": {
        "id": "lHZePtAHwqmR"
      }
    },
    {
      "cell_type": "markdown",
      "source": [
        "Logistic regression is the appropriate regression analysis to conduct when the dependent variable is binary. It is used to describe data and to explain the relationship between one dependent binary variable and one or more nominal, ordinal, interval or ratio-level independent variables"
      ],
      "metadata": {
        "id": "FX72SBYX11Mo"
      }
    },
    {
      "cell_type": "code",
      "source": [
        "LR_Model = LogisticRegression()\n",
        "LR_Model.fit(X_train, y_train)\n",
        "LR_Predict = LR_Model.predict(X_val)\n",
        "LR_Accuracy = accuracy_score(y_val, LR_Predict)\n",
        "print(\"Accuracy: \" + str(LR_Accuracy))\n",
        "\n",
        "LR_AUC = roc_auc_score(y_val, LR_Predict) \n",
        "print(\"AUC: \" + str(LR_AUC))"
      ],
      "metadata": {
        "colab": {
          "base_uri": "https://localhost:8080/"
        },
        "id": "47vPs671wtVK",
        "outputId": "a9018c8c-8525-48c1-cafd-8e04043da9f0"
      },
      "execution_count": null,
      "outputs": [
        {
          "output_type": "stream",
          "name": "stdout",
          "text": [
            "Accuracy: 0.8321167883211679\n",
            "AUC: 0.7514390371533229\n"
          ]
        }
      ]
    },
    {
      "cell_type": "markdown",
      "source": [
        "#Results and Discussion\n",
        "\n",
        "\n",
        "*   Comparison of different machine learning models\n",
        "\n"
      ],
      "metadata": {
        "id": "QbZfFPcCxeIy"
      }
    },
    {
      "cell_type": "code",
      "source": [
        "#models\n",
        "models = [RandomForestClassifier(), LogisticRegression(), KNeighborsClassifier()]\n",
        "\n",
        "#model names\n",
        "model_names = ['Random Forest', 'Logistic Regression', 'K-Nearest Neighbors']\n",
        "\n",
        "#scores\n",
        "auc_scores = []\n",
        "acc_scores = []\n",
        "\n",
        "for model, model_name in zip(models, model_names):\n",
        "  # Fit the model to the training data\n",
        "  model.fit(X_train, y_train)\n",
        "  \n",
        "  # Make predictions on the validation set\n",
        "  y_pred = model.predict(X_val)\n",
        "  \n",
        "  score = roc_auc_score(y_val, y_pred)  \n",
        "\n",
        "  \n",
        "  # Append the score to the list\n",
        "  auc_scores.append(score)\n",
        "\n",
        "  acc = accuracy_score(y_val, y_pred)\n",
        "\n",
        "  acc_scores.append(acc)\n",
        "\n",
        "  print(f'{model_name}: Accuracy = {acc:.2f}, AUC = {score:.2f}')\n",
        "\n",
        "# Create the bar plot\n",
        "\n",
        "#AUC Comparison\n",
        "x = model_names\n",
        "y = auc_scores\n",
        "fig, (ax1, ax2) = plt.subplots(1, 2, figsize=(15, 5))\n",
        "ax1.bar(x,y)\n",
        "ax1.set_xlabel('Model')\n",
        "ax1.set_ylabel('AUC')\n",
        "\n",
        "#ACC comparison\n",
        "x = model_names\n",
        "y = acc_scores\n",
        "ax2.bar(x,y)\n",
        "ax2.set_xlabel('Model')\n",
        "ax2.set_ylabel('Accuracy')\n",
        "plt.show()"
      ],
      "metadata": {
        "colab": {
          "base_uri": "https://localhost:8080/",
          "height": 386
        },
        "id": "KVPs1OerzSGQ",
        "outputId": "8655b48e-3105-4ac4-b9f2-a0bb9f571a74"
      },
      "execution_count": null,
      "outputs": [
        {
          "output_type": "stream",
          "name": "stdout",
          "text": [
            "Random Forest: Accuracy = 0.86, AUC = 0.83\n",
            "Logistic Regression: Accuracy = 0.83, AUC = 0.75\n",
            "K-Nearest Neighbors: Accuracy = 0.77, AUC = 0.68\n"
          ]
        },
        {
          "output_type": "display_data",
          "data": {
            "text/plain": [
              "<Figure size 1080x360 with 2 Axes>"
            ],
            "image/png": "[encoded data removed]"
          },
          "metadata": {}
        }
      ]
    },
    {
      "cell_type": "markdown",
      "source": [
        "RandomForestClassifier gives us the most accurate solution."
      ],
      "metadata": {
        "id": "uUeiRfEK4kOW"
      }
    },
    {
      "cell_type": "markdown",
      "source": [
        "# Plotting Confusion Matrix For Default Model"
      ],
      "metadata": {
        "id": "0ImXNQ2V68e2"
      }
    },
    {
      "cell_type": "code",
      "source": [
        "from sklearn.metrics import plot_confusion_matrix \n",
        "from sklearn.metrics import confusion_matrix\n",
        "plot_confusion_matrix(model, X_val, y_val)  \n",
        "\n",
        "plt.title('Confusion Matrix Evaluated for Default Model', fontsize=12)\n",
        "plt.show()"
      ],
      "metadata": {
        "colab": {
          "base_uri": "https://localhost:8080/",
          "height": 295
        },
        "id": "GSM6QlAb7Hd8",
        "outputId": "a2f760e6-1624-49fb-c1c0-9d4190a67669"
      },
      "execution_count": null,
      "outputs": [
        {
          "output_type": "display_data",
          "data": {
            "text/plain": [
              "<Figure size 432x288 with 2 Axes>"
            ],
            "image/png": "[encoded data removed]"
          },
          "metadata": {}
        }
      ]
    },
    {
      "cell_type": "markdown",
      "source": [
        "True Positive (TP) = 93; meaning 93 positive class data points were correctly classified\n",
        "\n",
        "True Negative (TN) = 29; meaning 29 negative class data points were correctly classified\n",
        "\n",
        "False Positive (FP) = 11; meaning 11 negative class data points were incorrectly classified\n",
        "\n",
        "False Negative (FN) = 16; meaning 16 positive class data points were incorrectly classified"
      ],
      "metadata": {
        "id": "7tcQCp3K7nnG"
      }
    },
    {
      "cell_type": "markdown",
      "source": [
        "#Hyperparameter Tunning"
      ],
      "metadata": {
        "id": "L_56YUoF5zIc"
      }
    },
    {
      "cell_type": "markdown",
      "source": [
        "We trainded the default model and now we will try different estimators to see if we can make our model even better. For this purpose we are going to use AUPRC (Area Under Precision-Recall Curve)."
      ],
      "metadata": {
        "id": "zfzldF8g6QmU"
      }
    },
    {
      "cell_type": "code",
      "source": [
        "from sklearn.metrics import auc,precision_recall_curve"
      ],
      "metadata": {
        "id": "lXimGb1k6GUY"
      },
      "execution_count": null,
      "outputs": []
    },
    {
      "cell_type": "code",
      "source": [
        "n_estimators = [100,200,300]\n",
        "\n",
        "auc_values = []\n",
        "for est in n_estimators:\n",
        "  model = RandomForestClassifier(n_estimators = est)\n",
        "  model.fit(X_train, y_train)\n",
        "  \n",
        "  preds = model.predict_proba(X_val)[:,1]\n",
        "  precision, recall, thresholds = precision_recall_curve(y_val, preds)\n",
        "\n",
        "  auc_sol = auc(recall, precision)\n",
        "  auc_values.append(auc_sol)\n",
        "\n",
        "n_est_best = max(auc_values)\n",
        "ix = auc_values.index(n_est_best)\n",
        "print(\"The best n estimator value is:\", n_estimators[ix])"
      ],
      "metadata": {
        "colab": {
          "base_uri": "https://localhost:8080/"
        },
        "id": "4sg5_oL_6DH7",
        "outputId": "0c0b7674-d985-41f7-ed71-16fcbb04d046"
      },
      "execution_count": null,
      "outputs": [
        {
          "output_type": "stream",
          "name": "stdout",
          "text": [
            "The best n estimator value is: 200\n"
          ]
        }
      ]
    },
    {
      "cell_type": "markdown",
      "source": [
        "We will train the model once more to make it better."
      ],
      "metadata": {
        "id": "gS4hdsYF8LFN"
      }
    },
    {
      "cell_type": "code",
      "source": [
        "best_model = RandomForestClassifier(n_estimators=n_estimators[ix], random_state=0)\n",
        "best_model.fit(X_train, y_train)"
      ],
      "metadata": {
        "colab": {
          "base_uri": "https://localhost:8080/"
        },
        "id": "bHRDXnbS6yIt",
        "outputId": "0eb86010-17f4-4884-f624-ebd2a26bba37"
      },
      "execution_count": null,
      "outputs": [
        {
          "output_type": "execute_result",
          "data": {
            "text/plain": [
              "RandomForestClassifier(n_estimators=200, random_state=0)"
            ]
          },
          "metadata": {},
          "execution_count": 52
        }
      ]
    },
    {
      "cell_type": "code",
      "source": [
        "y_pred = best_model.predict(X_test)\n",
        "\n",
        "plot_confusion_matrix(best_model, X_test, y_test)  \n",
        "\n",
        "plt.title('Confusion Matrix Evaluated on Test Data', fontsize=12)\n",
        "plt.show()"
      ],
      "metadata": {
        "colab": {
          "base_uri": "https://localhost:8080/",
          "height": 295
        },
        "id": "f49Wevrg8pPK",
        "outputId": "58b305f6-92e1-4267-c135-36797f74f94f"
      },
      "execution_count": null,
      "outputs": [
        {
          "output_type": "display_data",
          "data": {
            "text/plain": [
              "<Figure size 432x288 with 2 Axes>"
            ],
            "image/png": "[encoded data removed]"
          },
          "metadata": {}
        }
      ]
    },
    {
      "cell_type": "markdown",
      "source": [
        "## CONCLUSION"
      ],
      "metadata": {
        "id": "Hu24APeu8CLk"
      }
    },
    {
      "cell_type": "markdown",
      "source": [
        "Using a dataset of 993 IMDB Movies, we were able to predict rating (greater than 7.3) using numerical metrics such as metascore, revenue and runtime without external metrics such as director name, genre, and description.\n",
        "The Random Forest Classifier was the best performing algorithm with 95% accuracy and 83% AUC."
      ],
      "metadata": {
        "id": "UVZ3Oayu8Ge0"
      }
    },
    {
      "cell_type": "markdown",
      "source": [
        "Our goal was to predict movie ratings using runtime, Metascore, and votes as variables because we believe they are related to the ratings. To do this, we analyzed the data and looked at the correlations between the variables. We also used hypothesis testing to see if our hypothesis was supported by the data. Finally, we used machine learning techniques to achieve our goal."
      ],
      "metadata": {
        "id": "ysuJOS_E8FBc"
      }
    },
    {
      "cell_type": "markdown",
      "source": [
        "In summary, this project was successful as we were able to apply various methods learned during the semester to analyze the given dataset. Our machine learning techniques worked, and we determined that the Random Forest Model was the most effective for estimating the movie ratings.\n"
      ],
      "metadata": {
        "id": "BFA94QVq8Ra0"
      }
    },
    {
      "cell_type": "markdown",
      "source": [
        "## Work Division"
      ],
      "metadata": {
        "id": "_5uA5lDm6eYe"
      }
    },
    {
      "cell_type": "markdown",
      "source": [
        "For the progress report, we had regular meetings as a group in order to update each other and exchange ideas since many parts are common work of all. But in general Serra and Duygu worked on introduction, utilized dataset and data exploration; Zeynep and İrem worked on methods, feature generation and visualizations; Ceren and Ayçelen worked data preprocessing and analyzing. In the end we discussed future work. \n",
        "\n",
        "For the final report we had regular meetings as well and brainstormed different techniques. Serra, Duygu and Zeynep improved previous parts whereas İrem worked on hypothesis testing and Ceren and Ayçelen worked on machine learning."
      ],
      "metadata": {
        "id": "yX28Ukki6lYA"
      }
    }
  ]
}